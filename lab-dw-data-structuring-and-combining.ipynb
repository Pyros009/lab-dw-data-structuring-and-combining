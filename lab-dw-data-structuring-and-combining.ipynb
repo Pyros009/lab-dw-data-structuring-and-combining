{
 "cells": [
  {
   "cell_type": "markdown",
   "id": "25d7736c-ba17-4aff-b6bb-66eba20fbf4e",
   "metadata": {
    "id": "25d7736c-ba17-4aff-b6bb-66eba20fbf4e"
   },
   "source": [
    "# Lab | Data Structuring and Combining Data"
   ]
  },
  {
   "cell_type": "markdown",
   "id": "a2cdfc70-44c8-478c-81e7-2bc43fdf4986",
   "metadata": {
    "id": "a2cdfc70-44c8-478c-81e7-2bc43fdf4986"
   },
   "source": [
    "## Challenge 1: Combining & Cleaning Data\n",
    "\n",
    "In this challenge, we will be working with the customer data from an insurance company, as we did in the two previous labs. The data can be found here:\n",
    "- https://raw.githubusercontent.com/data-bootcamp-v4/data/main/file1.csv\n",
    "\n",
    "But this time, we got new data, which can be found in the following 2 CSV files located at the links below.\n",
    "\n",
    "- https://raw.githubusercontent.com/data-bootcamp-v4/data/main/file2.csv\n",
    "- https://raw.githubusercontent.com/data-bootcamp-v4/data/main/file3.csv\n",
    "\n",
    "Note that you'll need to clean and format the new data.\n",
    "\n",
    "Observation:\n",
    "- One option is to first combine the three datasets and then apply the cleaning function to the new combined dataset\n",
    "- Another option would be to read the clean file you saved in the previous lab, and just clean the two new files and concatenate the three clean datasets"
   ]
  },
  {
   "cell_type": "code",
   "execution_count": 1,
   "id": "492d06e3-92c7-4105-ac72-536db98d3244",
   "metadata": {
    "id": "492d06e3-92c7-4105-ac72-536db98d3244"
   },
   "outputs": [
    {
     "data": {
      "text/html": [
       "<div>\n",
       "<style scoped>\n",
       "    .dataframe tbody tr th:only-of-type {\n",
       "        vertical-align: middle;\n",
       "    }\n",
       "\n",
       "    .dataframe tbody tr th {\n",
       "        vertical-align: top;\n",
       "    }\n",
       "\n",
       "    .dataframe thead th {\n",
       "        text-align: right;\n",
       "    }\n",
       "</style>\n",
       "<table border=\"1\" class=\"dataframe\">\n",
       "  <thead>\n",
       "    <tr style=\"text-align: right;\">\n",
       "      <th></th>\n",
       "      <th>customer</th>\n",
       "      <th>state</th>\n",
       "      <th>gender</th>\n",
       "      <th>education</th>\n",
       "      <th>lifetime_value_%</th>\n",
       "      <th>income</th>\n",
       "      <th>monthly_premium_auto</th>\n",
       "      <th>complaints</th>\n",
       "      <th>policy_type</th>\n",
       "      <th>class</th>\n",
       "      <th>claim_amount</th>\n",
       "    </tr>\n",
       "  </thead>\n",
       "  <tbody>\n",
       "    <tr>\n",
       "      <th>0</th>\n",
       "      <td>RB50392</td>\n",
       "      <td>Washington</td>\n",
       "      <td>NaN</td>\n",
       "      <td>Master</td>\n",
       "      <td>NaN</td>\n",
       "      <td>0.0</td>\n",
       "      <td>1000.0</td>\n",
       "      <td>0</td>\n",
       "      <td>Personal Auto</td>\n",
       "      <td>Four-Door Car</td>\n",
       "      <td>2.7</td>\n",
       "    </tr>\n",
       "    <tr>\n",
       "      <th>1</th>\n",
       "      <td>QZ44356</td>\n",
       "      <td>Arizona</td>\n",
       "      <td>F</td>\n",
       "      <td>Bachelor</td>\n",
       "      <td>697953.6</td>\n",
       "      <td>0.0</td>\n",
       "      <td>94.0</td>\n",
       "      <td>0</td>\n",
       "      <td>Personal Auto</td>\n",
       "      <td>Four-Door Car</td>\n",
       "      <td>1131.5</td>\n",
       "    </tr>\n",
       "    <tr>\n",
       "      <th>2</th>\n",
       "      <td>AI49188</td>\n",
       "      <td>Nevada</td>\n",
       "      <td>F</td>\n",
       "      <td>Bachelor</td>\n",
       "      <td>1288743.2</td>\n",
       "      <td>48767.0</td>\n",
       "      <td>108.0</td>\n",
       "      <td>0</td>\n",
       "      <td>Personal Auto</td>\n",
       "      <td>Two-Door Car</td>\n",
       "      <td>566.5</td>\n",
       "    </tr>\n",
       "    <tr>\n",
       "      <th>3</th>\n",
       "      <td>WW63253</td>\n",
       "      <td>California</td>\n",
       "      <td>M</td>\n",
       "      <td>Bachelor</td>\n",
       "      <td>764586.2</td>\n",
       "      <td>0.0</td>\n",
       "      <td>106.0</td>\n",
       "      <td>0</td>\n",
       "      <td>Corporate Auto</td>\n",
       "      <td>SUV</td>\n",
       "      <td>529.9</td>\n",
       "    </tr>\n",
       "    <tr>\n",
       "      <th>4</th>\n",
       "      <td>GA49547</td>\n",
       "      <td>Washington</td>\n",
       "      <td>M</td>\n",
       "      <td>High School or Below</td>\n",
       "      <td>536307.7</td>\n",
       "      <td>36357.0</td>\n",
       "      <td>68.0</td>\n",
       "      <td>0</td>\n",
       "      <td>Personal Auto</td>\n",
       "      <td>Four-Door Car</td>\n",
       "      <td>17.3</td>\n",
       "    </tr>\n",
       "  </tbody>\n",
       "</table>\n",
       "</div>"
      ],
      "text/plain": [
       "  customer       state gender             education  lifetime_value_%  \\\n",
       "0  RB50392  Washington    NaN                Master               NaN   \n",
       "1  QZ44356     Arizona      F              Bachelor          697953.6   \n",
       "2  AI49188      Nevada      F              Bachelor         1288743.2   \n",
       "3  WW63253  California      M              Bachelor          764586.2   \n",
       "4  GA49547  Washington      M  High School or Below          536307.7   \n",
       "\n",
       "    income  monthly_premium_auto complaints     policy_type          class  \\\n",
       "0      0.0                1000.0          0   Personal Auto  Four-Door Car   \n",
       "1      0.0                  94.0          0   Personal Auto  Four-Door Car   \n",
       "2  48767.0                 108.0          0   Personal Auto   Two-Door Car   \n",
       "3      0.0                 106.0          0  Corporate Auto            SUV   \n",
       "4  36357.0                  68.0          0   Personal Auto  Four-Door Car   \n",
       "\n",
       "   claim_amount  \n",
       "0           2.7  \n",
       "1        1131.5  \n",
       "2         566.5  \n",
       "3         529.9  \n",
       "4          17.3  "
      ]
     },
     "metadata": {},
     "output_type": "display_data"
    }
   ],
   "source": [
    "import pandas as pd\n",
    "import numpy as np\n",
    "import clean_functions as ft\n",
    "\n",
    "\n",
    "######## Basic imports\n",
    "\n",
    "url1 = \"https://raw.githubusercontent.com/data-bootcamp-v4/data/main/file1.csv\"\n",
    "url2 = \"https://raw.githubusercontent.com/data-bootcamp-v4/data/main/file2.csv\"\n",
    "url3 = \"https://raw.githubusercontent.com/data-bootcamp-v4/data/main/file3.csv\"\n",
    "\n",
    "df1 = pd.read_csv(url1)\n",
    "df2 = pd.read_csv(url2)\n",
    "df3 = pd.read_csv(url3)\n",
    "\n",
    "######## Reworking columns\n",
    "\n",
    "df1.columns = [col.strip().replace(\" \", \"_\").lower() for col in df1.columns]\n",
    "df2.columns = [col.strip().replace(\" \", \"_\").lower() for col in df2.columns]\n",
    "df3.columns = [col.strip().replace(\" \", \"_\").lower() for col in df3.columns]\n",
    "\n",
    "# clearing column names, uniformizing for merging\n",
    "df1 = df1.rename({'st':\"state\", \"customer_lifetime_value\":\"lifetime_value_%\", \"number_of_open_complaints\":\"complaints\", \"vehicle_class\":\"class\", \"total_claim_amount\":\"claim_amount\" }, axis=1)\n",
    "df2 = df2.rename({'st':\"state\", \"customer_lifetime_value\":\"lifetime_value_%\", \"number_of_open_complaints\":\"complaints\", \"vehicle_class\":\"class\", \"total_claim_amount\":\"claim_amount\" }, axis=1)\n",
    "df3 = df3.rename({'st':\"state\", \"customer_lifetime_value\":\"lifetime_value_%\", \"number_of_open_complaints\":\"complaints\", \"vehicle_class\":\"class\", \"total_claim_amount\":\"claim_amount\" }, axis=1)\n",
    "\n",
    "#overview of column name\n",
    "#display(df2.head(2))\n",
    "#display(df2.head(2))\n",
    "#display(df3.head(2))\n",
    "\n",
    "### Heavy cleaning\n",
    "\n",
    "#cleans states\n",
    "state_dict = {\"Arizona\":\"AZ\",\"California\":\"Cali\",\"Washington\":\"WA\"}\n",
    "df1[\"state\"] = df1[\"state\"].apply(lambda x : ft.clean_fix(x,state_dict))\n",
    "df2[\"state\"] = df2[\"state\"].apply(lambda x : ft.clean_fix(x,state_dict))\n",
    "\n",
    "#cleans gender\n",
    "gender_clean={\"F\":[\"FEMALE\", \"FEMAL\"], \"M\":[\"MALE\"] }\n",
    "df1[\"gender\"] = df1[\"gender\"].apply(lambda x : ft.clean_fix(x.upper(), gender_clean) if isinstance(x, str) else x)\n",
    "df2[\"gender\"] = df2[\"gender\"].apply(lambda x : ft.clean_fix(x.upper(), gender_clean) if isinstance(x, str) else x)\n",
    "\n",
    "#cleans complaints\n",
    "df1[\"complaints\"] = df1[\"complaints\"].apply(lambda x: ft.clean_fix(x, {}))\n",
    "df2[\"complaints\"] = df2[\"complaints\"].apply(lambda x: ft.clean_fix(x, {}))\n",
    "\n",
    "#cleans education\n",
    "edu_dict = {\"Bachelor\":\"Bachelors\"}\n",
    "df1[\"education\"] = df1[\"education\"].apply(lambda x: ft.clean_fix(x,edu_dict))\n",
    "df2[\"education\"] = df2[\"education\"].apply(lambda x: ft.clean_fix(x,edu_dict))\n",
    "\n",
    "#cleans class\n",
    "class_clean={\"Luxury Car\":[\"Sports Car\", \"Luxury SUV\"]}\n",
    "df1[\"class\"] = df1[\"class\"].apply(lambda x: ft.clean_fix(x,class_clean))\n",
    "df2[\"class\"] = df2[\"class\"].apply(lambda x: ft.clean_fix(x,class_clean))\n",
    "df3[\"class\"] = df3[\"class\"].apply(lambda x: ft.clean_fix(x,class_clean))\n",
    "\n",
    "# cleans  lifetime value\n",
    "df1[\"lifetime_value_%\"] = df1[\"lifetime_value_%\"].str.rstrip(\"%\").apply(lambda x: ft.clean_num(x,1))\n",
    "df2[\"lifetime_value_%\"] = df2[\"lifetime_value_%\"].str.rstrip(\"%\").apply(lambda x: ft.clean_num(x,1))\n",
    "df3[\"lifetime_value_%\"] = df3[\"lifetime_value_%\"].apply(lambda x: ft.clean_num(x,1))\n",
    "\n",
    "# cleans claim amount\n",
    "df1['claim_amount'] = df1['claim_amount'].apply(lambda x: ft.clean_num(x,1))\n",
    "df2['claim_amount'] = df2['claim_amount'].apply(lambda x: ft.clean_num(x,1))\n",
    "df3['claim_amount'] = df3['claim_amount'].apply(lambda x: ft.clean_num(x,1))\n",
    "\n",
    "#overview after cleaning\n",
    "#display(df2.head(2))\n",
    "#display(df2.head(2))\n",
    "#display(df3.head(2))\n",
    "\n",
    "### concat dataframes\n",
    "\n",
    "df = pd.concat([df1,df2,df3], axis=0)\n",
    "\n",
    "display(df.head(5))"
   ]
  },
  {
   "cell_type": "markdown",
   "id": "31b8a9e7-7db9-4604-991b-ef6771603e57",
   "metadata": {
    "id": "31b8a9e7-7db9-4604-991b-ef6771603e57"
   },
   "source": [
    "# Challenge 2: Structuring Data"
   ]
  },
  {
   "cell_type": "markdown",
   "id": "a877fd6d-7a0c-46d2-9657-f25036e4ca4b",
   "metadata": {
    "id": "a877fd6d-7a0c-46d2-9657-f25036e4ca4b"
   },
   "source": [
    "In this challenge, we will continue to work with customer data from an insurance company, but we will use a dataset with more columns, called marketing_customer_analysis.csv, which can be found at the following link:\n",
    "\n",
    "https://raw.githubusercontent.com/data-bootcamp-v4/data/main/marketing_customer_analysis_clean.csv\n",
    "\n",
    "This dataset contains information such as customer demographics, policy details, vehicle information, and the customer's response to the last marketing campaign. Our goal is to explore and analyze this data by performing data cleaning, formatting, and structuring."
   ]
  },
  {
   "cell_type": "code",
   "execution_count": 2,
   "id": "aa10d9b0-1c27-4d3f-a8e4-db6ab73bfd26",
   "metadata": {
    "id": "aa10d9b0-1c27-4d3f-a8e4-db6ab73bfd26"
   },
   "outputs": [
    {
     "data": {
      "text/plain": [
       "unnamed:_0                         int64\n",
       "customer                          object\n",
       "state                             object\n",
       "customer_lifetime_value          float64\n",
       "response                          object\n",
       "coverage                          object\n",
       "education                         object\n",
       "effective_to_date                 object\n",
       "employmentstatus                  object\n",
       "gender                            object\n",
       "income                             int64\n",
       "location_code                     object\n",
       "marital_status                    object\n",
       "monthly_premium_auto               int64\n",
       "months_since_last_claim          float64\n",
       "months_since_policy_inception      int64\n",
       "number_of_open_complaints        float64\n",
       "number_of_policies                 int64\n",
       "policy_type                       object\n",
       "policy                            object\n",
       "renew_offer_type                  object\n",
       "sales_channel                     object\n",
       "total_claim_amount               float64\n",
       "vehicle_class                     object\n",
       "vehicle_size                      object\n",
       "vehicle_type                      object\n",
       "month                              int64\n",
       "dtype: object"
      ]
     },
     "metadata": {},
     "output_type": "display_data"
    }
   ],
   "source": [
    "import pandas as pd\n",
    "import numpy as np\n",
    "\n",
    "\n",
    "uurl = \"https://raw.githubusercontent.com/data-bootcamp-v4/data/main/marketing_customer_analysis_clean.csv\"\n",
    "\n",
    "dfmark = pd.read_csv(uurl)\n",
    "\n",
    "display(dfmark.dtypes)\n"
   ]
  },
  {
   "cell_type": "code",
   "execution_count": 3,
   "id": "3927ee52",
   "metadata": {},
   "outputs": [
    {
     "data": {
      "text/html": [
       "<div>\n",
       "<style scoped>\n",
       "    .dataframe tbody tr th:only-of-type {\n",
       "        vertical-align: middle;\n",
       "    }\n",
       "\n",
       "    .dataframe tbody tr th {\n",
       "        vertical-align: top;\n",
       "    }\n",
       "\n",
       "    .dataframe thead th {\n",
       "        text-align: right;\n",
       "    }\n",
       "</style>\n",
       "<table border=\"1\" class=\"dataframe\">\n",
       "  <thead>\n",
       "    <tr style=\"text-align: right;\">\n",
       "      <th>sales_channel</th>\n",
       "      <th>Agent</th>\n",
       "      <th>Branch</th>\n",
       "      <th>Call Center</th>\n",
       "      <th>Web</th>\n",
       "    </tr>\n",
       "  </thead>\n",
       "  <tbody>\n",
       "    <tr>\n",
       "      <th>total_claim_amount</th>\n",
       "      <td>1810226.88</td>\n",
       "      <td>1301204.34</td>\n",
       "      <td>926601.02</td>\n",
       "      <td>706600.02</td>\n",
       "    </tr>\n",
       "  </tbody>\n",
       "</table>\n",
       "</div>"
      ],
      "text/plain": [
       "sales_channel            Agent      Branch  Call Center        Web\n",
       "total_claim_amount  1810226.88  1301204.34    926601.02  706600.02"
      ]
     },
     "metadata": {},
     "output_type": "display_data"
    }
   ],
   "source": [
    "# since marketing will only work with sales channel, revenue, customer lifetime value, gender and educatio, we exclude all other columns\n",
    "dfmark2 = dfmark[[\"sales_channel\",\"customer_lifetime_value\" ,\"total_claim_amount\", \"months_since_last_claim\", \"gender\", \"education\"]].copy()\n",
    "\n",
    "# uses previous function to round claim amount to 2 decimals\n",
    "dfmark2[\"total_claim_amount\"] = dfmark2[\"total_claim_amount\"].apply(lambda x: ft.clean_num(x,2))\n",
    "\n",
    "df_1 = dfmark2[[\"sales_channel\", \"total_claim_amount\"]]\n",
    "\n",
    "grouped_df = df_1.groupby(\"sales_channel\").sum()\n",
    "#display(grouped_df)\n",
    "\n",
    "pivot_df = dfmark2.pivot_table(columns='sales_channel', values=['total_claim_amount'], aggfunc='sum')\n",
    "display(pivot_df)\n",
    "\n",
    "## Higher value came from Agent, being Web the channel with the least revenue.\n",
    "\n",
    "# Using pivot, create a summary table showing the total revenue for each sales channel (branch, call center, web, and mail).\n",
    "# Round the total revenue to 2 decimal points.  Analyze the resulting table to draw insights."
   ]
  },
  {
   "cell_type": "code",
   "execution_count": 6,
   "id": "6ded431e",
   "metadata": {},
   "outputs": [
    {
     "data": {
      "text/html": [
       "<div>\n",
       "<style scoped>\n",
       "    .dataframe tbody tr th:only-of-type {\n",
       "        vertical-align: middle;\n",
       "    }\n",
       "\n",
       "    .dataframe tbody tr th {\n",
       "        vertical-align: top;\n",
       "    }\n",
       "\n",
       "    .dataframe thead tr th {\n",
       "        text-align: left;\n",
       "    }\n",
       "\n",
       "    .dataframe thead tr:last-of-type th {\n",
       "        text-align: right;\n",
       "    }\n",
       "</style>\n",
       "<table border=\"1\" class=\"dataframe\">\n",
       "  <thead>\n",
       "    <tr>\n",
       "      <th></th>\n",
       "      <th colspan=\"2\" halign=\"left\">customer_lifetime_value</th>\n",
       "    </tr>\n",
       "    <tr>\n",
       "      <th>gender</th>\n",
       "      <th>F</th>\n",
       "      <th>M</th>\n",
       "    </tr>\n",
       "    <tr>\n",
       "      <th>education</th>\n",
       "      <th></th>\n",
       "      <th></th>\n",
       "    </tr>\n",
       "  </thead>\n",
       "  <tbody>\n",
       "    <tr>\n",
       "      <th>Bachelor</th>\n",
       "      <td>7874.27</td>\n",
       "      <td>7703.60</td>\n",
       "    </tr>\n",
       "    <tr>\n",
       "      <th>College</th>\n",
       "      <td>7748.82</td>\n",
       "      <td>8052.46</td>\n",
       "    </tr>\n",
       "    <tr>\n",
       "      <th>Doctor</th>\n",
       "      <td>7328.51</td>\n",
       "      <td>7415.33</td>\n",
       "    </tr>\n",
       "    <tr>\n",
       "      <th>High School or Below</th>\n",
       "      <td>8675.22</td>\n",
       "      <td>8149.69</td>\n",
       "    </tr>\n",
       "    <tr>\n",
       "      <th>Master</th>\n",
       "      <td>8157.05</td>\n",
       "      <td>8168.83</td>\n",
       "    </tr>\n",
       "  </tbody>\n",
       "</table>\n",
       "</div>"
      ],
      "text/plain": [
       "                     customer_lifetime_value         \n",
       "gender                                     F        M\n",
       "education                                            \n",
       "Bachelor                             7874.27  7703.60\n",
       "College                              7748.82  8052.46\n",
       "Doctor                               7328.51  7415.33\n",
       "High School or Below                 8675.22  8149.69\n",
       "Master                               8157.05  8168.83"
      ]
     },
     "metadata": {},
     "output_type": "display_data"
    }
   ],
   "source": [
    "# Create a pivot table that shows the average customer lifetime value per gender and education level. Analyze the resulting table to draw insights.\n",
    "\n",
    "df_2 = dfmark2[[\"customer_lifetime_value\",\"gender\", \"education\"]].copy()\n",
    "df_2[\"customer_lifetime_value\"] = df_2[\"customer_lifetime_value\"].apply(lambda x: ft.clean_num(x,2))\n",
    "\n",
    "pivot_df2 = df_2.pivot_table(index=\"education\", columns='gender', values=['customer_lifetime_value'], aggfunc='mean').round(2)\n",
    "\n",
    "display(pivot_df2)\n",
    "\n",
    "## Analyze\n",
    "# Higher lifetime value is highest for both genders at HS or below education levels, Master being close second. College seems to have higher values for M than F, HS and below have reversed dispersion.\n",
    "# Doctors seem to have the lowest lifetime value.\n",
    "#\n"
   ]
  },
  {
   "cell_type": "markdown",
   "id": "df35fd0d-513e-4e77-867e-429da10a9cc7",
   "metadata": {
    "id": "df35fd0d-513e-4e77-867e-429da10a9cc7"
   },
   "source": [
    "1. You work at the marketing department and you want to know which sales channel brought the most sales in terms of total revenue. Using pivot, create a summary table showing the total revenue for each sales channel (branch, call center, web, and mail).\n",
    "Round the total revenue to 2 decimal points.  Analyze the resulting table to draw insights."
   ]
  },
  {
   "cell_type": "markdown",
   "id": "640993b2-a291-436c-a34d-a551144f8196",
   "metadata": {
    "id": "640993b2-a291-436c-a34d-a551144f8196"
   },
   "source": [
    "2. Create a pivot table that shows the average customer lifetime value per gender and education level. Analyze the resulting table to draw insights."
   ]
  },
  {
   "cell_type": "markdown",
   "id": "32c7f2e5-3d90-43e5-be33-9781b6069198",
   "metadata": {
    "id": "32c7f2e5-3d90-43e5-be33-9781b6069198"
   },
   "source": [
    "## Bonus\n",
    "\n",
    "You work at the customer service department and you want to know which months had the highest number of complaints by policy type category. Create a summary table showing the number of complaints by policy type and month.\n",
    "Show it in a long format table."
   ]
  },
  {
   "cell_type": "markdown",
   "id": "e3d09a8f-953c-448a-a5f8-2e5a8cca7291",
   "metadata": {
    "id": "e3d09a8f-953c-448a-a5f8-2e5a8cca7291"
   },
   "source": [
    "*In data analysis, a long format table is a way of structuring data in which each observation or measurement is stored in a separate row of the table. The key characteristic of a long format table is that each column represents a single variable, and each row represents a single observation of that variable.*\n",
    "\n",
    "*More information about long and wide format tables here: https://www.statology.org/long-vs-wide-data/*"
   ]
  },
  {
   "cell_type": "code",
   "execution_count": 43,
   "id": "3a069e0b-b400-470e-904d-d17582191be4",
   "metadata": {
    "id": "3a069e0b-b400-470e-904d-d17582191be4"
   },
   "outputs": [
    {
     "data": {
      "text/html": [
       "<div>\n",
       "<style scoped>\n",
       "    .dataframe tbody tr th:only-of-type {\n",
       "        vertical-align: middle;\n",
       "    }\n",
       "\n",
       "    .dataframe tbody tr th {\n",
       "        vertical-align: top;\n",
       "    }\n",
       "\n",
       "    .dataframe thead th {\n",
       "        text-align: right;\n",
       "    }\n",
       "</style>\n",
       "<table border=\"1\" class=\"dataframe\">\n",
       "  <thead>\n",
       "    <tr style=\"text-align: right;\">\n",
       "      <th></th>\n",
       "      <th></th>\n",
       "      <th>number_of_open_complaints</th>\n",
       "    </tr>\n",
       "    <tr>\n",
       "      <th>month</th>\n",
       "      <th>policy_type</th>\n",
       "      <th></th>\n",
       "    </tr>\n",
       "  </thead>\n",
       "  <tbody>\n",
       "    <tr>\n",
       "      <th rowspan=\"3\" valign=\"top\">1</th>\n",
       "      <th>Corporate Auto</th>\n",
       "      <td>443.43</td>\n",
       "    </tr>\n",
       "    <tr>\n",
       "      <th>Personal Auto</th>\n",
       "      <td>1727.61</td>\n",
       "    </tr>\n",
       "    <tr>\n",
       "      <th>Special Auto</th>\n",
       "      <td>87.07</td>\n",
       "    </tr>\n",
       "    <tr>\n",
       "      <th rowspan=\"3\" valign=\"top\">2</th>\n",
       "      <th>Corporate Auto</th>\n",
       "      <td>385.21</td>\n",
       "    </tr>\n",
       "    <tr>\n",
       "      <th>Personal Auto</th>\n",
       "      <td>1453.68</td>\n",
       "    </tr>\n",
       "    <tr>\n",
       "      <th>Special Auto</th>\n",
       "      <td>95.23</td>\n",
       "    </tr>\n",
       "  </tbody>\n",
       "</table>\n",
       "</div>"
      ],
      "text/plain": [
       "                      number_of_open_complaints\n",
       "month policy_type                              \n",
       "1     Corporate Auto                     443.43\n",
       "      Personal Auto                     1727.61\n",
       "      Special Auto                        87.07\n",
       "2     Corporate Auto                     385.21\n",
       "      Personal Auto                     1453.68\n",
       "      Special Auto                        95.23"
      ]
     },
     "metadata": {},
     "output_type": "display_data"
    },
    {
     "data": {
      "text/plain": [
       "'\\nprint(df_multiindex)\\n'"
      ]
     },
     "execution_count": 43,
     "metadata": {},
     "output_type": "execute_result"
    }
   ],
   "source": [
    "dfbonus = dfmark[[\"number_of_open_complaints\",\"month\" ,\"policy_type\"]].copy()\n",
    "\n",
    "#display(dfbonus[\"number_of_open_complaints\"].dtype)\n",
    "\n",
    "pivot_df = dfbonus.pivot_table(index='month', columns='policy_type', values=['number_of_open_complaints'], aggfunc='sum').round(2)\n",
    "df_multiindex = pivot_df.stack()\n",
    "\n",
    "#df_multiindex = dfbonus.set_index(['month','policy_type'])\n",
    "\n",
    "display(df_multiindex)\n",
    "\n",
    "### As we can see, highest nr of complaints is with personal auto on both months, although month 2 shows a slight decrease. Special autos have little complains.\n"
   ]
  }
 ],
 "metadata": {
  "colab": {
   "provenance": []
  },
  "kernelspec": {
   "display_name": "Python 3 (ipykernel)",
   "language": "python",
   "name": "python3"
  },
  "language_info": {
   "codemirror_mode": {
    "name": "ipython",
    "version": 3
   },
   "file_extension": ".py",
   "mimetype": "text/x-python",
   "name": "python",
   "nbconvert_exporter": "python",
   "pygments_lexer": "ipython3",
   "version": "3.8.1"
  }
 },
 "nbformat": 4,
 "nbformat_minor": 5
}
